{
 "cells": [
  {
   "cell_type": "markdown",
   "id": "5c0c9540",
   "metadata": {},
   "source": [
    "# 01.Vypis,tlač"
   ]
  },
  {
   "cell_type": "code",
   "execution_count": 2,
   "id": "09dae436",
   "metadata": {},
   "outputs": [
    {
     "name": "stdout",
     "output_type": "stream",
     "text": [
      "Its alife\n"
     ]
    }
   ],
   "source": [
    "print(\"Its alife\");"
   ]
  },
  {
   "cell_type": "markdown",
   "id": "936e7ca9",
   "metadata": {},
   "source": [
    "# 02.Premenné a datové typy"
   ]
  },
  {
   "cell_type": "code",
   "execution_count": 14,
   "id": "b788d625",
   "metadata": {},
   "outputs": [
    {
     "name": "stdout",
     "output_type": "stream",
     "text": [
      "AhojAdam\n",
      "Ahoj:  Adam\n",
      "Do vianoc je este: 325 dni!\n"
     ]
    }
   ],
   "source": [
    "#Jednoriadkový koment (poznámky,odkedy)\n",
    "#Retazec (str - string)\n",
    "menoKlient = \"Adam\";\n",
    "print(\"Ahoj\" + menoKlient)\n",
    "print(\"Ahoj: \", menoKlient)\n",
    "\n",
    "#Celé čislo (int - integer)\n",
    "pocetdniVianoc = 325\n",
    "print(\"Do vianoc je este:\", pocetdniVianoc,\"dni!\")"
   ]
  },
  {
   "cell_type": "code",
   "execution_count": null,
   "id": "00b55a80",
   "metadata": {},
   "outputs": [],
   "source": []
  }
 ],
 "metadata": {
  "kernelspec": {
   "display_name": "Python 3 (ipykernel)",
   "language": "python",
   "name": "python3"
  },
  "language_info": {
   "codemirror_mode": {
    "name": "ipython",
    "version": 3
   },
   "file_extension": ".py",
   "mimetype": "text/x-python",
   "name": "python",
   "nbconvert_exporter": "python",
   "pygments_lexer": "ipython3",
   "version": "3.11.5"
  }
 },
 "nbformat": 4,
 "nbformat_minor": 5
}
